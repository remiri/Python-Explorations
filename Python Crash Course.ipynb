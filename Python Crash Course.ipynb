{
 "cells": [
  {
   "cell_type": "code",
   "execution_count": 2,
   "metadata": {},
   "outputs": [],
   "source": [
    "#\n",
    "#Chapter 2 Exercises: Variables & Simple Data Types\n",
    "#"
   ]
  },
  {
   "cell_type": "code",
   "execution_count": null,
   "metadata": {},
   "outputs": [],
   "source": []
  },
  {
   "cell_type": "code",
   "execution_count": 12,
   "metadata": {},
   "outputs": [
    {
     "name": "stdout",
     "output_type": "stream",
     "text": [
      "Hi Michaelangelo, how goes the painting?\n"
     ]
    }
   ],
   "source": [
    "#Name a variable and print a message to that variable.\n",
    "name_1 = 'Michaelangelo'\n",
    "print(f'Hi {name_1}, how goes the painting?')"
   ]
  },
  {
   "cell_type": "code",
   "execution_count": 14,
   "metadata": {},
   "outputs": [
    {
     "name": "stdout",
     "output_type": "stream",
     "text": [
      "Hi Michaelangelo, how goes the painting?\n"
     ]
    }
   ],
   "source": [
    "#Name a variable and print a message to that variable. Make variable capitalized.\n",
    "name_1 = 'michaelangelo'\n",
    "print(f'Hi {name_1.title()}, how goes the painting?')"
   ]
  },
  {
   "cell_type": "code",
   "execution_count": 16,
   "metadata": {},
   "outputs": [
    {
     "name": "stdout",
     "output_type": "stream",
     "text": [
      "Hi michaelangelo, how goes the painting?\n"
     ]
    }
   ],
   "source": [
    "#Name a variable and print a message to that variable. Make variable lowercase.\n",
    "name_1 = 'michaelangelo'\n",
    "print(f'Hi {name_1.lower()}, how goes the painting?')"
   ]
  },
  {
   "cell_type": "code",
   "execution_count": 17,
   "metadata": {},
   "outputs": [
    {
     "name": "stdout",
     "output_type": "stream",
     "text": [
      "Hi MICHAELANGELO, how goes the painting?\n"
     ]
    }
   ],
   "source": [
    "#Name a variable and print a message to that variable. Make variable uppercase.\n",
    "name_1 = 'michaelangelo'\n",
    "print(f'Hi {name_1.upper()}, how goes the painting?')"
   ]
  },
  {
   "cell_type": "code",
   "execution_count": 23,
   "metadata": {},
   "outputs": [
    {
     "name": "stdout",
     "output_type": "stream",
     "text": [
      " Hi Michaelangelo, how goes the painting? \n",
      "Hi michaelangelo, how goes the painting?\n"
     ]
    }
   ],
   "source": [
    "#Remove all spaces at the ends of the string(whitespace).\n",
    "name_1 = 'michaelangelo'\n",
    "print(f' Hi {name_1.title()}, how goes the painting? ')\n",
    "name_1_message = (f' Hi {name_1}, how goes the painting? ')\n",
    "name_1_message = name_1_message.strip()\n",
    "print(name_1_message)\n",
    "#.lstrip() and rstrip() may also be used for respective sides."
   ]
  },
  {
   "cell_type": "code",
   "execution_count": 24,
   "metadata": {},
   "outputs": [
    {
     "name": "stdout",
     "output_type": "stream",
     "text": [
      "Bob Proctor once said, 'If you must doubt something, doubt your limits.'\n"
     ]
    }
   ],
   "source": [
    "#Print a sentence including a famous person and their quote.\n",
    "famous_person = 'bob proctor'\n",
    "print(f\"{famous_person.title()} once said, 'If you must doubt something, doubt your limits.'\")"
   ]
  },
  {
   "cell_type": "code",
   "execution_count": 1,
   "metadata": {},
   "outputs": [],
   "source": [
    "#\n",
    "# Chapter 3 Exercises: Lists\n",
    "#"
   ]
  },
  {
   "cell_type": "code",
   "execution_count": 10,
   "metadata": {},
   "outputs": [
    {
     "name": "stdout",
     "output_type": "stream",
     "text": [
      "My favorite fruit has always been the apple.\n"
     ]
    }
   ],
   "source": [
    "# Create a list and place one of the items within the list into a sentence.\n",
    "fruits = ['apple','banana','orange','strawberry', 'kiwi', 'watermelon']\n",
    "\n",
    "print(f\"My favorite fruit has always been the {fruits[0]}.\")"
   ]
  },
  {
   "cell_type": "code",
   "execution_count": 12,
   "metadata": {},
   "outputs": [
    {
     "name": "stdout",
     "output_type": "stream",
     "text": [
      "Would you like an orange or a kiwi?\n"
     ]
    }
   ],
   "source": [
    "print(f\"Would you like an {fruits[2]} or a {fruits[4]}?\")"
   ]
  },
  {
   "cell_type": "code",
   "execution_count": 13,
   "metadata": {},
   "outputs": [],
   "source": [
    "# QUESTION: How do i deal with plural values? Can I alter the element as needed to fit the scenario? Do I need multiple lists, singular and plural? "
   ]
  },
  {
   "cell_type": "code",
   "execution_count": 4,
   "metadata": {},
   "outputs": [
    {
     "name": "stdout",
     "output_type": "stream",
     "text": [
      "['apple', 'banana', 'lemon', 'strawberry', 'kiwi', 'watermelon']\n",
      "['apple', 'banana', 'orange', 'strawberry', 'kiwi', 'watermelon', 'raspberry']\n"
     ]
    }
   ],
   "source": [
    "# Change the value in a list\n",
    "fruits = ['apple','banana','orange','strawberry', 'kiwi', 'watermelon']\n",
    "fruits[2] = 'lemon'\n",
    "print(fruits)\n",
    "\n",
    "# Append a value to a list\n",
    "fruits = ['apple','banana','orange','strawberry', 'kiwi', 'watermelon']\n",
    "fruits.append('raspberry')\n",
    "print(fruits)\n"
   ]
  },
  {
   "cell_type": "code",
   "execution_count": 1,
   "metadata": {},
   "outputs": [],
   "source": [
    "#\n",
    "# IBM Python for Data Science, AI & Dev: Strings\n",
    "#"
   ]
  },
  {
   "cell_type": "code",
   "execution_count": 12,
   "metadata": {},
   "outputs": [
    {
     "name": "stdout",
     "output_type": "stream",
     "text": [
      "ktywty\n"
     ]
    }
   ],
   "source": [
    "# Create a string. Use stride to select every other element within the string and print.\n",
    "\n",
    "cat1 = 'kitty witty'\n",
    "print(cat1[::2]) #Slicing with zero results in an error. Slicing with 1 results in the string printing normally with all elements. Slicing by 2 prints every other element. Slicing by 3 prints every 3rd element."
   ]
  },
  {
   "cell_type": "code",
   "execution_count": 6,
   "metadata": {},
   "outputs": [
    {
     "name": "stdout",
     "output_type": "stream",
     "text": [
      "Kitty Witty is black as midnight.\n"
     ]
    }
   ],
   "source": [
    "# Contatenate the string with a second string to create a sentence. Capitalize Kitty Witty.\n",
    "cat1 = 'kitty witty'\n",
    "\n",
    "print(cat1.title() + ' is black as midnight.')"
   ]
  },
  {
   "cell_type": "code",
   "execution_count": 16,
   "metadata": {},
   "outputs": [
    {
     "name": "stdout",
     "output_type": "stream",
     "text": [
      "y\n",
      "itt\n"
     ]
    }
   ],
   "source": [
    "# Replace elements within the string. \n",
    "cat1 = 'kitty witty' # It is good practice to leave strings lowercase and then use operations to change the string based on the situation. \n",
    "cat1.replace('kitty', 'silly')\n",
    "\n",
    "# Print the last element in the string.\n",
    "print(cat1[-1]) # I just realized why the negative index starts with -1 and not zero. Zero cannot mean both the first and the last element. Duh!\n",
    "\n",
    "# Find the starting index of 'wit' in the variable cat1.\n",
    "\n",
    "cat1.find('wit')\n",
    "\n",
    "# Print 3 elements within the string.\n",
    "print(cat1[1:4]) # The first value represents the starting index while the final value indicates the point at which the index should stop... .so, it this always prints up to the value before the second index (1 through 3).\n"
   ]
  },
  {
   "cell_type": "code",
   "execution_count": 17,
   "metadata": {},
   "outputs": [],
   "source": [
    "#\n",
    "# Tuples\n",
    "#"
   ]
  },
  {
   "cell_type": "code",
   "execution_count": 20,
   "metadata": {},
   "outputs": [
    {
     "name": "stdout",
     "output_type": "stream",
     "text": [
      "('chunky', 10, 1.5, 'ace', 9, 'orange', 6)\n"
     ]
    }
   ],
   "source": [
    "#Tuples are immutable. This means they cannot be altered. To manipulate a tuple, a new tuple must be created an operated on. \n",
    "stuff = (\"chunky\",10,1.5,'ace',9) # \"Tuples are written as ordered, comma-separated elements within parentheses.\" \n",
    "\n",
    "# Tuples can be concatenated. \n",
    "stuff1 = stuff + ('orange', 6)\n",
    "\n",
    "print(stuff1)"
   ]
  },
  {
   "cell_type": "code",
   "execution_count": 27,
   "metadata": {},
   "outputs": [
    {
     "ename": "TypeError",
     "evalue": "'<' not supported between instances of 'int' and 'str'",
     "output_type": "error",
     "traceback": [
      "\u001b[0;31m---------------------------------------------------------------------------\u001b[0m",
      "\u001b[0;31mTypeError\u001b[0m                                 Traceback (most recent call last)",
      "\u001b[0;32m<ipython-input-27-04bed7044317>\u001b[0m in \u001b[0;36m<module>\u001b[0;34m\u001b[0m\n\u001b[1;32m      7\u001b[0m \u001b[0;31m#Sort stuff1:\u001b[0m\u001b[0;34m\u001b[0m\u001b[0;34m\u001b[0m\u001b[0;34m\u001b[0m\u001b[0m\n\u001b[1;32m      8\u001b[0m \u001b[0;34m\u001b[0m\u001b[0m\n\u001b[0;32m----> 9\u001b[0;31m \u001b[0msortedstuff1\u001b[0m \u001b[0;34m=\u001b[0m \u001b[0msorted\u001b[0m\u001b[0;34m(\u001b[0m\u001b[0mstuff1\u001b[0m\u001b[0;34m)\u001b[0m \u001b[0;31m#I tried this before understanding that, since the tuple stuff1 contains strings, the sorted method does not work.\u001b[0m\u001b[0;34m\u001b[0m\u001b[0;34m\u001b[0m\u001b[0m\n\u001b[0m\u001b[1;32m     10\u001b[0m \u001b[0;34m\u001b[0m\u001b[0m\n",
      "\u001b[0;31mTypeError\u001b[0m: '<' not supported between instances of 'int' and 'str'"
     ]
    }
   ],
   "source": [
    "# Slicing Tuples\n",
    "stuff1[0:3]\n",
    "\n",
    "#Finding the length of a tuple:\n",
    "len(stuff)\n",
    "\n",
    "#Sort stuff1:\n",
    "\n",
    "sortedstuff1 = sorted(stuff1) #I tried this before understanding that, since the tuple stuff1 contains strings, the sorted method does not work.\n",
    "\n"
   ]
  },
  {
   "cell_type": "code",
   "execution_count": 3,
   "metadata": {},
   "outputs": [
    {
     "name": "stdout",
     "output_type": "stream",
     "text": [
      "[1, 2, 3, 5, 8]\n"
     ]
    }
   ],
   "source": [
    "# New tuple for sorting:\n",
    "stuff2 = (1,3,5,2,8)\n",
    "stuff2sorted = sorted(stuff2) # Sorting a tuple creates a list of the sorted elements.\n",
    "\n",
    "print(stuff2sorted)"
   ]
  },
  {
   "cell_type": "code",
   "execution_count": 1,
   "metadata": {},
   "outputs": [],
   "source": [
    "#\n",
    "# Lists\n",
    "#"
   ]
  },
  {
   "cell_type": "code",
   "execution_count": 17,
   "metadata": {},
   "outputs": [
    {
     "name": "stdout",
     "output_type": "stream",
     "text": [
      "['suzuki', 'buell', 'harley davidson', 'yamaha', ['victory', 'indian']]\n",
      "['suzuki', 'buell', 'harley davidson', 'yamaha', ['victory', 'indian'], 'kawasaki', 'bmw']\n"
     ]
    },
    {
     "data": {
      "text/plain": [
       "7"
      ]
     },
     "execution_count": 17,
     "metadata": {},
     "output_type": "execute_result"
    }
   ],
   "source": [
    "# there are two ways to add to a list: Append and extend. \n",
    "\n",
    "motorcycle_brands = ['suzuki','buell','harley davidson','yamaha']\n",
    "\n",
    "motorcycle_brands.append(['victory','indian']) # Append adds the values as a single, nested element into the list. \n",
    "\n",
    "print(motorcycle_brands)\n",
    "\n",
    "len(motorcycle_brands) #The length = 5\n",
    "\n",
    "motorcycle_brands.extend(['kawasaki','bmw']) # Extend adds multiple values as multiple elements and not just one.\n",
    "\n",
    "print(motorcycle_brands)\n",
    "\n",
    "len(motorcycle_brands) # The length = 7\n"
   ]
  },
  {
   "cell_type": "code",
   "execution_count": 22,
   "metadata": {},
   "outputs": [
    {
     "name": "stdout",
     "output_type": "stream",
     "text": [
      "['suzuki', 'harley davidson', 'yamaha', 'kawasaki', 'bmw']\n"
     ]
    }
   ],
   "source": [
    "# Remove an element from the nested list within motorcycle_brands.\n",
    "del(motorcycle_brands[1])\n",
    "print(motorcycle_brands)"
   ]
  },
  {
   "cell_type": "code",
   "execution_count": 31,
   "metadata": {},
   "outputs": [
    {
     "data": {
      "text/plain": [
       "['harley', 'davidson', 'buell']"
      ]
     },
     "execution_count": 31,
     "metadata": {},
     "output_type": "execute_result"
    }
   ],
   "source": [
    "# Split 'harley davidson'\n",
    "'harley davidson'.split() #Split can divide a string into a list by dividing on the default 'space'. \n",
    "\n",
    "#Split() can also split on ','\n",
    "'harley,davidson,buell'.split(',')"
   ]
  },
  {
   "cell_type": "code",
   "execution_count": 37,
   "metadata": {},
   "outputs": [
    {
     "name": "stdout",
     "output_type": "stream",
     "text": [
      "List 1:\n",
      "['suzuki', 'harley davidson', 'yamaha', 'kawasaki', 'bmw']\n",
      "List 2:\n",
      "['suzuki', 'harley davidson', 'yamaha', 'kawasaki', 'bmw']\n"
     ]
    }
   ],
   "source": [
    "# An alias of a list can be created by setting the list equal to another variable.\n",
    "motorcycle_brands1 = motorcycle_brands\n",
    "print('List 1:')\n",
    "print(motorcycle_brands)\n",
    "print('List 2:')\n",
    "print(motorcycle_brands1)"
   ]
  },
  {
   "cell_type": "code",
   "execution_count": 40,
   "metadata": {},
   "outputs": [
    {
     "data": {
      "text/plain": [
       "['suzuki', 'harley davidson', 'yamaha', 'kawasaki', 'bmw']"
      ]
     },
     "execution_count": 40,
     "metadata": {},
     "output_type": "execute_result"
    }
   ],
   "source": [
    "# A list may also be cloned the following way.\n",
    "A = motorcycle_brands[:]\n",
    "A"
   ]
  },
  {
   "cell_type": "code",
   "execution_count": null,
   "metadata": {},
   "outputs": [],
   "source": []
  }
 ],
 "metadata": {
  "kernelspec": {
   "display_name": "Python",
   "language": "python",
   "name": "conda-env-python-py"
  },
  "language_info": {
   "codemirror_mode": {
    "name": "ipython",
    "version": 3
   },
   "file_extension": ".py",
   "mimetype": "text/x-python",
   "name": "python",
   "nbconvert_exporter": "python",
   "pygments_lexer": "ipython3",
   "version": "3.6.12"
  }
 },
 "nbformat": 4,
 "nbformat_minor": 4
}
