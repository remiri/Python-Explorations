{
 "cells": [
  {
   "cell_type": "code",
   "execution_count": 1,
   "metadata": {},
   "outputs": [],
   "source": [
    "# Working with a scenario using dictionaries. \n",
    "#Customer wants to check out book from library."
   ]
  },
  {
   "cell_type": "code",
   "execution_count": 28,
   "metadata": {},
   "outputs": [],
   "source": [
    "#Create dictionary of books and dictionary for checked-out books.\n",
    "books_authors = {\"Dragonflight\":\"Anne McCaffrey\", \"Moreta: Dragonlady of Pern\":\"Anne McCaffrey\", \"Black\":\"Ted Dekker\"\n",
    "                 , \"White\":\"Ted Dekker\", \"Red\":\"Ted Dekker\"}\n",
    "books_checkedOut = {}"
   ]
  },
  {
   "cell_type": "code",
   "execution_count": 26,
   "metadata": {},
   "outputs": [
    {
     "name": "stdin",
     "output_type": "stream",
     "text": [
      "Hi Valued Shopper, may I have your name? Renee\n",
      "Hi Valued Shopper, may I have your name? Renee\n"
     ]
    },
    {
     "name": "stdout",
     "output_type": "stream",
     "text": [
      "Renee\n"
     ]
    }
   ],
   "source": [
    "name1 = input(\"Hi Valued Shopper, may I have your name?\")\n",
    "# Leaving this here for reference.. incorrect -> print(input(\"Hi Valued Shopper, may I have your name?\"))"
   ]
  },
  {
   "cell_type": "code",
   "execution_count": 27,
   "metadata": {},
   "outputs": [
    {
     "name": "stdout",
     "output_type": "stream",
     "text": [
      "Thank you, Renee!\n",
      "Let me show you our current selection of books.\n",
      "{'Dragonflight': 'Anne McCaffrey', 'Moreta: Dragonlady of Pern': 'Anne McCaffrey', 'Black': 'Ted Dekker/n', 'White': 'Ted Dekker', 'Red': 'Ted Dekker'}\n"
     ]
    }
   ],
   "source": [
    "print(f'Thank you, {name1}!')\n",
    "print(\"Let me show you our current selection of books.\")\n",
    "print(books_authors)"
   ]
  },
  {
   "cell_type": "code",
   "execution_count": null,
   "metadata": {},
   "outputs": [],
   "source": [
    "input('Is there a book you would like to check out?')"
   ]
  },
  {
   "cell_type": "code",
   "execution_count": null,
   "metadata": {},
   "outputs": [],
   "source": [
    "# Inset a loop to accommodate user input.\n",
    "# If yes, query which book. If no, end program.\n",
    "# If yes, remove (using pop() method) user choice from dictionary. Add the popped choice to another dictionary, books_checkedOut. \n"
   ]
  }
 ],
 "metadata": {
  "kernelspec": {
   "display_name": "Python",
   "language": "python",
   "name": "conda-env-python-py"
  },
  "language_info": {
   "codemirror_mode": {
    "name": "ipython",
    "version": 3
   },
   "file_extension": ".py",
   "mimetype": "text/x-python",
   "name": "python",
   "nbconvert_exporter": "python",
   "pygments_lexer": "ipython3",
   "version": "3.6.12"
  }
 },
 "nbformat": 4,
 "nbformat_minor": 4
}
